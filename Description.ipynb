{
 "cells": [
  {
   "cell_type": "markdown",
   "metadata": {},
   "source": [
    "# 서울, 경기도 버스 서버에 get 요청을 보내는 requester 모듈"
   ]
  },
  {
   "cell_type": "code",
   "execution_count": 2,
   "metadata": {
    "scrolled": false
   },
   "outputs": [
    {
     "name": "stdout",
     "output_type": "stream",
     "text": [
      "{\"error\":{\"errorMessage\":\"성공\",\"errorCode\":\"0000\"},\"resultList\":[{\"stationNo\":\"0\",\"trnstnid\":\"101000005\",\"busRouteId\":\"228000174\",\"stationNm\":\"명지대앞\",\"busType\":\"N\",\"station\":\"228000191\",\"direction\":\"서울역버스환승센터\",\"sectSpd\":\"0\",\"vehList\":[],\"arsId\":\"0\",\"section\":\"0\",\"transYn\":\"N\",\"routeType\":\"8\",\"gpsX\":\"127.1885204361\",\"busRouteNm\":\"5000B용인\",\"gpsY\":\"37.22422625\",\"seq\":\"1\",\"sectSpdCol\":\"SpeedRed\",\"lastTm\":\":\",\"fullSectDist\":\"0\",\"beginTm\":\"07:50\",\"existYn\":\"N\"},{\"stationNo\":\"78025\",\"trnstnid\":\"101000005\n",
      "\n",
      "\n",
      "--------------------------------------------------------------------------------------------\n",
      "\n",
      "\n",
      "<?xml version=\"1.0\" encoding=\"UTF-8\" standalone=\"yes\"?><response><comMsgHeader/><msgHeader><queryTime>2018-04-15 16:18:40.643</queryTime><resultCode>0</resultCode><resultMessage>정상적으로 처리되었습니다.</resultMessage></msgHeader><msgBody><busLocationList><endBus>0</endBus><lowPlate>0</lowPlate><plateNo>경기73바1614</plateNo><plateType>3</plateType><remainSeatCnt>-1</remainSeatCnt><routeId>216000044</routeId><stationId>121000970</stationId><stationSeq>25</stationSeq></busLocationList><busLocationList><endBus\n"
     ]
    }
   ],
   "source": [
    "# @requester.py\n",
    "import requests\n",
    "\n",
    "def get_response(is_seoul_bus, routeId):\n",
    "    if is_seoul_bus:\n",
    "        params = {\n",
    "            'busRouteId': routeId\n",
    "        }\n",
    "        response = requests.get(\"http://m.bus.go.kr/mBus/bus/getRouteAndPos.bms\", params=params)\n",
    "        return response.text\n",
    "    else:\n",
    "        params = {\n",
    "            'serviceKey': '1234567890',\n",
    "            'routeId': routeId\n",
    "        }\n",
    "        response = requests.get(\"http://openapi.gbis.go.kr/ws/rest/buslocationservice\", params=params)\n",
    "        return response.text\n",
    "\n",
    "print(get_response(True, 228000174)[0:500]) # 서울 버스에 대해 Sample Response 얻기. 228000174은 5000번(용인)의 routeID\n",
    "print('\\n\\n--------------------------------------------------------------------------------------------\\n\\n')\n",
    "print(get_response(False, 216000044)[0:500]) # 경기도 버스에 대해 Sample Response 얻기. 216000044은 M6410번의 routeID"
   ]
  },
  {
   "cell_type": "markdown",
   "metadata": {},
   "source": [
    "---\n",
    "# 버스 서버에서 온 Response 를 파싱하는 parse 모듈\n",
    "\n",
    "### 파싱 뒤에 얻고 싶은 결과물은 \"전체 정류장 번호(ex. 1~70) 중 몇 번에 어떤 버스가 지나가고 있는지\""
   ]
  },
  {
   "cell_type": "code",
   "execution_count": 7,
   "metadata": {
    "scrolled": true
   },
   "outputs": [
    {
     "name": "stdout",
     "output_type": "stream",
     "text": [
      "{'경기78아1125': '17', '경기78아1197': '31', '경기78아1215': '40', '경기78아1151': '51', '경기78아1319': '57', '경기78아1318': '59', '경기78아1275': '76'}\n",
      "\n",
      "---------------------------\n",
      "\n",
      "{'경기73바1605': '29', '경기73바1612': '13', '경기73바1173': '21', '경기73바1614': '5', '경기73바1604': '38'}\n"
     ]
    }
   ],
   "source": [
    "# @parse.py\n",
    "from requester import get_response\n",
    "\n",
    "sample_seoulbus_string = get_response(True, 228000174)\n",
    "sample_gbus_string = get_response(False, 216000044)\n",
    "\n",
    "def parse(is_seoul_bus, string):\n",
    "    List = []\n",
    "    result = {}\n",
    "    if is_seoul_bus: # 서울 버스인 경우의 파싱 구현\n",
    "        temp = string.split('plainNo')[1:]\n",
    "        for i in range(len(temp)):\n",
    "            if i%2 == 1:\n",
    "                List.append(temp[i].split('sectSpdCol')[0])\n",
    "        for s in List:\n",
    "            t = s.split(''':\"''')\n",
    "            result[t[1].split('''\"''')[0]] = t[2].split('''\"''')[0]\n",
    "        return result\n",
    "    else: # 경기도 버스인 경우의 파싱 구현\n",
    "        temp = string.split('<plateNo>')[1:]\n",
    "        for i in range(len(temp)):\n",
    "            List.append(temp[i].split('</stationSeq>')[0])\n",
    "        for s in List:\n",
    "            result[s.split('<')[0]] = s.split('Seq>')[1]\n",
    "        return result\n",
    "\n",
    "print(parse(True ,sample_seoulbus_string))\n",
    "print('\\n---------------------------\\n')\n",
    "print(parse(False ,sample_gbus_string))"
   ]
  },
  {
   "cell_type": "markdown",
   "metadata": {},
   "source": [
    "---\n",
    "# 지속적으로 변화되는 버스 위치를 받아서 처리하는 compare 모듈\n",
    "\n",
    "### 변화하는 input 을 sample 로 만들어놓고 구현"
   ]
  },
  {
   "cell_type": "markdown",
   "metadata": {},
   "source": [
    "예를 들어,\n",
    "\n",
    " * '경기73바1173': 2   \n",
    " * '경기73바1603': 30  \n",
    " * '경기73바1605': 27     \n",
    "에서<br>\n",
    "\n",
    "* '경기73바1173'\n",
    "* '경기73바1603'\n",
    "* '경기73바1605'\n",
    "* '경기73바1639'<br>\n",
    "으로,\n",
    "\n",
    "이렇게 변화된 input 이 들어오면 다음과 같이 해석:<br>\n",
    "\n",
    "1173, 1603, 1605 버스는 H시 M분 S초에 각각 3, 31, 28번 정류장에 도달했고, 1639 버스가 새롭게 운행을 시작했다\""
   ]
  },
  {
   "cell_type": "code",
   "execution_count": null,
   "metadata": {},
   "outputs": [],
   "source": [
    "# @compare.py\n",
    "import datetime\n",
    "import os\n",
    "\n",
    "inputs = []\n",
    "inputs.append({\n",
    "    '경기73바1173': '34',\n",
    "    '경기73바1603': '6',\n",
    "    '경기73바1606': '30',\n",
    "    '경기73바1611': '25'\n",
    "})\n",
    "inputs.append({\n",
    "    '경기73바1173': '34',\n",
    "    '경기73바1603': '7',\n",
    "    '경기73바1606': '30',\n",
    "    '경기73바1611': '26',\n",
    "    '경기73바1611': '1'\n",
    "})\n",
    "inputs.append({\n",
    "    '경기73바1603': '8',\n",
    "    '경기73바1606': '31',\n",
    "    '경기73바1611': '27',\n",
    "    '경기73바1611': '2'    \n",
    "})\n",
    "\n",
    "test = {\n",
    "    '경기73바1173': '34',    \n",
    "    '경기73바1603': '5',\n",
    "    '경기73바1606': '30',\n",
    "    '경기73바1611': '25'\n",
    "}\n",
    "\n",
    "def compare(route_name ,response, current):\n",
    "    now = datetime.datetime.now()\n",
    "    for response_key in response: # response 에는 있는데 current 에 없는 경우 : 기점에서 운행 시작\n",
    "        if not response_key in current:\n",
    "            file = route_name + '/' + response_key + '.txt'\n",
    "            if os.path.exists(file):\n",
    "                f = open(file, 'a+')\n",
    "            else:\n",
    "                if not os.path.exists(route_name):\n",
    "                    os.mkdir(route_name)\n",
    "                f = open(file, 'w+')\n",
    "            f.write(now.strftime('%Y-%m-%d %H:%M:%S') + '|'+ response[response_key] + '\\n')\n",
    "            f.close()\n",
    "    for current_key in current: # current 에는 있는데 response 에 없는 경우 : 종점에서 운행 종료\n",
    "        if not current_key in response:\n",
    "            file = route_name + '/' + current_key + '.txt'\n",
    "            if os.path.exists(file):\n",
    "                f = open(file, 'a+')\n",
    "            else:\n",
    "                if not os.path.exists(route_name):\n",
    "                    os.mkdir(route_name)\n",
    "                f = open(file, 'w+')\n",
    "            f = open(file, 'a+')\n",
    "            f.write(now.strftime('%Y-%m-%d %H:%M:%S') + '|'+ current[current_key] + '\\n')\n",
    "            f.close()\n",
    "    for current_key in current:\n",
    "        if not current_key in response:\n",
    "            continue\n",
    "        if current[current_key] != response[current_key]:\n",
    "            file = route_name + '/' + current_key + '.txt'\n",
    "            if os.path.exists(file):\n",
    "                f = open(file, 'a+')\n",
    "            else:\n",
    "                if not os.path.exists(route_name):\n",
    "                    os.mkdir(route_name)\n",
    "                f = open(file, 'w+')\n",
    "            f = open(file, 'a+')\n",
    "            f.write(now.strftime('%Y-%m-%d %H:%M:%S') + '|'+ response[current_key] + '\\n')\n",
    "            f.close()\n",
    "\n",
    "for i in inputs:\n",
    "    compare('1000', i, test)"
   ]
  },
  {
   "cell_type": "markdown",
   "metadata": {},
   "source": [
    "---\n",
    "# thread 를 이용해서 반복적으로 실행"
   ]
  },
  {
   "cell_type": "code",
   "execution_count": null,
   "metadata": {},
   "outputs": [],
   "source": [
    "# @main.py\n",
    "import datetime, threading\n",
    "from requester import *\n",
    "from parse import *\n",
    "from compare import *\n",
    "\n",
    "current, is_seoul_bus, route_name, routeID = {}, False, '88A', 218000018\n",
    "def repeat(second = 1.0):\n",
    "    global current, is_seoul_bus, route_name, routeID\n",
    "    if datetime.datetime.now().hour == 3: # 새벽 3시가 되면 쓰레드를 종료\n",
    "        return\n",
    "    response = parse(is_seoul_bus, get_response(is_seoul_bus, routeID))\n",
    "    if current == {}:\n",
    "        compare(route_name, response, current)\n",
    "        current = response\n",
    "    else:\n",
    "        compare(route_name, response, current)\n",
    "        current = response\n",
    "    print('Repeating...')\n",
    "    threading.Timer(second, repeat, [second]).start()\n",
    "    \n",
    "repeat(3.0)"
   ]
  },
  {
   "cell_type": "markdown",
   "metadata": {},
   "source": [
    "---\n",
    "# 결과물 예시"
   ]
  },
  {
   "attachments": {},
   "cell_type": "markdown",
   "metadata": {},
   "source": [
    "Ex) 경기73아0000.txt\n",
    "\n",
    "2018-04-15 19:39:52|39<br>\n",
    "2018-04-15 19:41:30|40<br>\n",
    "2018-04-15 19:42:10|41<br>\n",
    "2018-04-15 19:44:50|42<br>\n",
    "2018-04-15 19:47:10|43<br>\n",
    "2018-04-15 19:51:54|EOF (운행 종료)"
   ]
  }
 ],
 "metadata": {
  "kernelspec": {
   "display_name": "Python 3",
   "language": "python",
   "name": "python3"
  },
  "language_info": {
   "codemirror_mode": {
    "name": "ipython",
    "version": 3
   },
   "file_extension": ".py",
   "mimetype": "text/x-python",
   "name": "python",
   "nbconvert_exporter": "python",
   "pygments_lexer": "ipython3",
   "version": "3.6.4"
  }
 },
 "nbformat": 4,
 "nbformat_minor": 2
}
